{
 "cells": [
  {
   "cell_type": "markdown",
   "metadata": {},
   "source": [
    "# Project 2: Netflix Data Analysis\n",
    "\n",
    "In this project we will be working with a dataset of Netflix titles. We will be using its data to answer some questions about Netflix titles, directors, and countries using Pandas. We will also use Matplotlib to do a couple of interesting visualizations to get more interesting insights. The data is stored in a csv file named `netflix_titles.csv`.\n",
    "\n",
    "Data extracted from: https://www.kaggle.com/datasets/shivamb/netflix-shows (with some cleaning and modifications).\n",
    "\n",
    "\n",
    "### Project Tasks:\n",
    "\n",
    "- `2.1.` Load the data using Pandas read_csv, use `show_id` as the index_col parameter.\n",
    "\n",
    "- `2.2.` What is the min and max release years?  \n",
    "\n",
    "- `2.3.` How many director names are missing values (NaN)?  \n",
    "\n",
    "- `2.4.` How many different countries are there in the data?  \n",
    "\n",
    "- `2.5.` How many characters long are on average the title names? (create a new column with the titles length if needed)  \n",
    "\n",
    "- `2.6.` For a given year, make a pie chart of the number of movies and series combined made by every country, limit it to the top 10 countries.\n",
    "\n",
    "- `2.7.` Make a line chart of the average duration of movies (not TV shows) in minutes for every year across all the years. (hint: you can create a new column with the integer value of the minutes and then use groupby year and then average on that minutes column)"
   ]
  },
  {
   "cell_type": "code",
   "execution_count": null,
   "metadata": {},
   "outputs": [],
   "source": [
    "import pandas as pd\n",
    "import matplotlib.pyplot as plt"
   ]
  },
  {
   "cell_type": "code",
   "execution_count": null,
   "metadata": {},
   "outputs": [],
   "source": [
    "# Ex 2.1: Load the data using Pandas read_csv, use `show_id` as the index_col parameter. \n",
    "\n",
    "data_path = \"../data/netflix_titles.csv\"\n",
    "\n",
    "movies_df = None  # TODO\n",
    "\n",
    "movies_df"
   ]
  },
  {
   "cell_type": "code",
   "execution_count": null,
   "metadata": {},
   "outputs": [],
   "source": [
    "# Ex 2.2: What is the min and max release years?\n",
    "\n",
    "min_year = None  # TODO\n",
    "max_year = None  # TODO\n",
    "\n",
    "print(f\"Min year: {min_year}, Max year: {max_year}\")"
   ]
  },
  {
   "cell_type": "code",
   "execution_count": null,
   "metadata": {},
   "outputs": [],
   "source": []
  },
  {
   "cell_type": "code",
   "execution_count": null,
   "metadata": {},
   "outputs": [],
   "source": [
    "# Ex 2.3: How many director names are missing values (NaN)?\n",
    "\n",
    "num_missing_directors = None  # TODO\n",
    "\n",
    "print(f\"Number of missing directors: {num_missing_directors}\")"
   ]
  },
  {
   "cell_type": "code",
   "execution_count": null,
   "metadata": {},
   "outputs": [],
   "source": []
  },
  {
   "cell_type": "code",
   "execution_count": null,
   "metadata": {},
   "outputs": [],
   "source": [
    "# Ex 2.4: How many different countries are there in the data?\n",
    "\n",
    "# You will need to fill the NaN (missing) values with the string \"Unknown\" first. \n",
    "# Then list the unique entries. As some of them are lists of countries already, because that movie/series was produced in multiple countries, \n",
    "# you will need to join with \", \" all the elements of the list into a single string, and then split it by \", \" to get a list of all the individual countries.\n",
    "\n",
    "# Finally, you can get the number of unique countries by getting the length of the list of unique countries, you can use a set {} to get the unique countries or convert the entire\n",
    "# list into a pd.Series and use .unique() to get the list of unique countries and then its number.\n",
    "\n",
    "n_countries = None  # TODO n_countries has to be a single integer number with the unique number of different countries (you can build this in multiple lines and steps)\n",
    "\n",
    "print(f\"There are {n_countries} different countries in the data\")"
   ]
  },
  {
   "cell_type": "code",
   "execution_count": null,
   "metadata": {},
   "outputs": [],
   "source": []
  },
  {
   "cell_type": "code",
   "execution_count": null,
   "metadata": {},
   "outputs": [],
   "source": [
    "# Ex 2.5: How many characters long are on average the title names?\n",
    " \n",
    "# hint: (create a new column with the titles length if needed, you can use the apply method like .apply(lambda x: len(x)) , then get the mean of that column)\n",
    "\n",
    "avg_title_length = None  # TODO\n",
    "\n",
    "print(f\"The average title length is {avg_title_length} characters\")"
   ]
  },
  {
   "cell_type": "code",
   "execution_count": null,
   "metadata": {},
   "outputs": [],
   "source": []
  },
  {
   "cell_type": "code",
   "execution_count": null,
   "metadata": {},
   "outputs": [],
   "source": [
    "# Ex 2.6: For a given year, get the Pandas Series of how many movies and series combined were made by every country, limit it to the top 10 countries.\n",
    "\n",
    "# It's optional to clean or modify the data of countries in this case, you can just use the data as it is.\n",
    "\n",
    "# hint: (you can use the .loc method to filter the data by year, and then use the .value_counts() method to get the number of movies and series combined for each country, \n",
    "# finally use the head(10) method to get the top 10 countries)\n",
    "\n",
    "year = 2005   # you can try to change the year to see the results for different years \n",
    "\n",
    "top_10_countries = None  # TODO: top_10_countries has to be a Pandas Series with the top 10 countries with the number of movies and series combined for that year\n",
    "\n",
    "print(top_10_countries)\n",
    "\n",
    "# Code to plot the pie chart from your data results\n",
    "fig = plt.figure(figsize=(8, 8))\n",
    "plt.pie(top_10_countries, labels=top_10_countries.index, autopct=\"%.2f%%\")\n",
    "plt.title(f\"Top 10 Countries in {year}\")\n",
    "\n",
    "plt.show()\n"
   ]
  },
  {
   "cell_type": "code",
   "execution_count": null,
   "metadata": {},
   "outputs": [],
   "source": []
  },
  {
   "cell_type": "code",
   "execution_count": null,
   "metadata": {},
   "outputs": [],
   "source": [
    "# Ex 2.7: Make a line chart of the average duration of movies (not TV shows) in minutes for every year across all the years. \n",
    "\n",
    "# (hint: you can create a new column with the integer value of the minutes of the movies, it's possible to do it with the .apply() \n",
    "# method and a lambda function, getting only stripping the minutes of it and converting the digit number to an integer\n",
    "# or you can also do this process with a for loop over the dataframe rows like <for row_id, row in df.iterrows(): > creating every new value of that row for the new column\n",
    "\n",
    "# Then use groupby year and in order to average on that movies minutes column)\n",
    "\n",
    "movies_avg_duration_per_year = None  # TODO: movies_avg_duration_per_year has to be a Pandas Series with the average duration of movies per year\n",
    "\n",
    "\n",
    "fig = plt.figure(figsize=(9, 6))\n",
    "\n",
    "# TODO: generate the line plot using plt.plot() and the information from movies_avg_duration_per_year (the vertical axis with the minutes value) and its index (the horizontal axis with the years)\n",
    "\n",
    "plt.title(\"Average Duration of Movies Across Years\")\n",
    "\n",
    "plt.show()"
   ]
  },
  {
   "cell_type": "code",
   "execution_count": null,
   "metadata": {},
   "outputs": [],
   "source": []
  }
 ],
 "metadata": {
  "kernelspec": {
   "display_name": "venv",
   "language": "python",
   "name": "python3"
  },
  "language_info": {
   "codemirror_mode": {
    "name": "ipython",
    "version": 3
   },
   "file_extension": ".py",
   "mimetype": "text/x-python",
   "name": "python",
   "nbconvert_exporter": "python",
   "pygments_lexer": "ipython3",
   "version": "3.11.5"
  }
 },
 "nbformat": 4,
 "nbformat_minor": 2
}
